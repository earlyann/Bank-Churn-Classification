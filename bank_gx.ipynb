{
 "cells": [
  {
   "cell_type": "code",
   "execution_count": 1,
   "metadata": {},
   "outputs": [],
   "source": [
    "import pandas as pd \n",
    "import numpy as np\n",
    "import matplotlib.pyplot as plt\n",
    "import seaborn as sns\n",
    "import datetime\n",
    "import great_expectations as gx"
   ]
  },
  {
   "cell_type": "code",
   "execution_count": null,
   "metadata": {},
   "outputs": [],
   "source": [
    "# # List all the Datasources\n",
    "# datasources = context.list_datasources()\n",
    "\n",
    "# # Print the list of Datasource names\n",
    "# for datasource_name in datasources:\n",
    "#     print(datasource_name)"
   ]
  },
  {
   "cell_type": "code",
   "execution_count": 2,
   "metadata": {},
   "outputs": [
    {
     "data": {
      "text/plain": [
       "CSVAsset(name='test', type='csv', id=None, order_by=[], batch_metadata={}, filepath_or_buffer=PosixPath('/Users/laceymorgan/Desktop/Bank-Churn-Classification/data/test.csv'), sep=None, delimiter=None, header='infer', names=None, index_col=None, usecols=None, squeeze=None, prefix=None, mangle_dupe_cols=True, dtype=None, engine=None, converters=None, true_values=None, false_values=None, skipinitialspace=False, skiprows=None, skipfooter=0, nrows=None, na_values=None, keep_default_na=True, na_filter=True, verbose=False, skip_blank_lines=True, parse_dates=None, infer_datetime_format=False, keep_date_col=False, date_parser=None, dayfirst=False, cache_dates=True, iterator=False, chunksize=None, compression='infer', thousands=None, decimal='.', lineterminator=None, quotechar='\"', quoting=0, doublequote=True, escapechar=None, comment=None, encoding=None, encoding_errors='strict', dialect=None, error_bad_lines=None, warn_bad_lines=None, on_bad_lines=None, delim_whitespace=False, low_memory=True, memory_map=False, float_precision=None, storage_options=None)"
      ]
     },
     "execution_count": 2,
     "metadata": {},
     "output_type": "execute_result"
    }
   ],
   "source": [
    "# Create context\n",
    "context = gx.data_context.DataContext()\n",
    "\n",
    "# Name the datasource\n",
    "datasource_name = 'bank_churn_classification_data7'\n",
    "datasource = context.sources.add_pandas(datasource_name)\n",
    "\n",
    "# Define asset names and file paths\n",
    "original_asset = 'original'\n",
    "train_asset = 'train'\n",
    "test_asset = 'test'\n",
    "path_to_original = '/Users/laceymorgan/Desktop/Bank-Churn-Classification/data/original.csv'\n",
    "path_to_training = '/Users/laceymorgan/Desktop/Bank-Churn-Classification/data/train.csv'\n",
    "path_to_test = '/Users/laceymorgan/Desktop/Bank-Churn-Classification/data/test.csv'\n",
    "\n",
    "# Create datasource and add CSV assets\n",
    "datasource = context.datasources['bank_churn_classification_data7']  \n",
    "datasource.add_csv_asset(original_asset, filepath_or_buffer=path_to_original)\n",
    "datasource.add_csv_asset(train_asset, filepath_or_buffer=path_to_training)\n",
    "datasource.add_csv_asset(test_asset, filepath_or_buffer=path_to_test)\n"
   ]
  },
  {
   "cell_type": "code",
   "execution_count": 3,
   "metadata": {},
   "outputs": [
    {
     "name": "stdout",
     "output_type": "stream",
     "text": [
      "assets:\n",
      "  - filepath_or_buffer: /Users/laceymorgan/Desktop/Bank-Churn-Classification/data/original.csv\n",
      "    name: original\n",
      "    type: csv\n",
      "  - filepath_or_buffer: /Users/laceymorgan/Desktop/Bank-Churn-Classification/data/train.csv\n",
      "    name: train\n",
      "    type: csv\n",
      "  - filepath_or_buffer: /Users/laceymorgan/Desktop/Bank-Churn-Classification/data/test.csv\n",
      "    name: test\n",
      "    type: csv\n",
      "name: bank_churn_classification_data7\n",
      "type: pandas\n",
      "\n"
     ]
    }
   ],
   "source": [
    "datasource = context.datasources[\"bank_churn_classification_data7\"]\n",
    "print(datasource)"
   ]
  },
  {
   "cell_type": "code",
   "execution_count": 4,
   "metadata": {},
   "outputs": [
    {
     "data": {
      "text/plain": [
       "{\n",
       "  \"expectation_suite_name\": \"bank_churn_expectations\",\n",
       "  \"ge_cloud_id\": null,\n",
       "  \"expectations\": [],\n",
       "  \"data_asset_type\": null,\n",
       "  \"meta\": {\n",
       "    \"great_expectations_version\": \"0.18.6\"\n",
       "  }\n",
       "}"
      ]
     },
     "execution_count": 4,
     "metadata": {},
     "output_type": "execute_result"
    }
   ],
   "source": [
    "# Create an expectation suite\n",
    "context.add_or_update_expectation_suite(\"bank_churn_expectations\")"
   ]
  },
  {
   "cell_type": "code",
   "execution_count": 5,
   "metadata": {},
   "outputs": [
    {
     "data": {
      "application/vnd.jupyter.widget-view+json": {
       "model_id": "8de61f545623471386d6fe6f56ccc2a4",
       "version_major": 2,
       "version_minor": 0
      },
      "text/plain": [
       "Calculating Metrics:   0%|          | 0/1 [00:00<?, ?it/s]"
      ]
     },
     "metadata": {},
     "output_type": "display_data"
    },
    {
     "data": {
      "text/html": [
       "<div>\n",
       "<style scoped>\n",
       "    .dataframe tbody tr th:only-of-type {\n",
       "        vertical-align: middle;\n",
       "    }\n",
       "\n",
       "    .dataframe tbody tr th {\n",
       "        vertical-align: top;\n",
       "    }\n",
       "\n",
       "    .dataframe thead th {\n",
       "        text-align: right;\n",
       "    }\n",
       "</style>\n",
       "<table border=\"1\" class=\"dataframe\">\n",
       "  <thead>\n",
       "    <tr style=\"text-align: right;\">\n",
       "      <th></th>\n",
       "      <th>RowNumber</th>\n",
       "      <th>CustomerId</th>\n",
       "      <th>Surname</th>\n",
       "      <th>CreditScore</th>\n",
       "      <th>Geography</th>\n",
       "      <th>Gender</th>\n",
       "      <th>Age</th>\n",
       "      <th>Tenure</th>\n",
       "      <th>Balance</th>\n",
       "      <th>NumOfProducts</th>\n",
       "      <th>HasCrCard</th>\n",
       "      <th>IsActiveMember</th>\n",
       "      <th>EstimatedSalary</th>\n",
       "      <th>Exited</th>\n",
       "    </tr>\n",
       "  </thead>\n",
       "  <tbody>\n",
       "    <tr>\n",
       "      <th>0</th>\n",
       "      <td>1</td>\n",
       "      <td>15634602</td>\n",
       "      <td>Hargrave</td>\n",
       "      <td>619</td>\n",
       "      <td>France</td>\n",
       "      <td>Female</td>\n",
       "      <td>42.0</td>\n",
       "      <td>2</td>\n",
       "      <td>0.00</td>\n",
       "      <td>1</td>\n",
       "      <td>1.0</td>\n",
       "      <td>1.0</td>\n",
       "      <td>101348.88</td>\n",
       "      <td>1</td>\n",
       "    </tr>\n",
       "    <tr>\n",
       "      <th>1</th>\n",
       "      <td>2</td>\n",
       "      <td>15647311</td>\n",
       "      <td>Hill</td>\n",
       "      <td>608</td>\n",
       "      <td>Spain</td>\n",
       "      <td>Female</td>\n",
       "      <td>41.0</td>\n",
       "      <td>1</td>\n",
       "      <td>83807.86</td>\n",
       "      <td>1</td>\n",
       "      <td>0.0</td>\n",
       "      <td>1.0</td>\n",
       "      <td>112542.58</td>\n",
       "      <td>0</td>\n",
       "    </tr>\n",
       "    <tr>\n",
       "      <th>2</th>\n",
       "      <td>3</td>\n",
       "      <td>15619304</td>\n",
       "      <td>Onio</td>\n",
       "      <td>502</td>\n",
       "      <td>France</td>\n",
       "      <td>Female</td>\n",
       "      <td>42.0</td>\n",
       "      <td>8</td>\n",
       "      <td>159660.80</td>\n",
       "      <td>3</td>\n",
       "      <td>1.0</td>\n",
       "      <td>0.0</td>\n",
       "      <td>113931.57</td>\n",
       "      <td>1</td>\n",
       "    </tr>\n",
       "    <tr>\n",
       "      <th>3</th>\n",
       "      <td>4</td>\n",
       "      <td>15701354</td>\n",
       "      <td>Boni</td>\n",
       "      <td>699</td>\n",
       "      <td>France</td>\n",
       "      <td>Female</td>\n",
       "      <td>39.0</td>\n",
       "      <td>1</td>\n",
       "      <td>0.00</td>\n",
       "      <td>2</td>\n",
       "      <td>0.0</td>\n",
       "      <td>0.0</td>\n",
       "      <td>93826.63</td>\n",
       "      <td>0</td>\n",
       "    </tr>\n",
       "    <tr>\n",
       "      <th>4</th>\n",
       "      <td>5</td>\n",
       "      <td>15737888</td>\n",
       "      <td>Mitchell</td>\n",
       "      <td>850</td>\n",
       "      <td>Spain</td>\n",
       "      <td>Female</td>\n",
       "      <td>43.0</td>\n",
       "      <td>2</td>\n",
       "      <td>125510.82</td>\n",
       "      <td>1</td>\n",
       "      <td>NaN</td>\n",
       "      <td>1.0</td>\n",
       "      <td>79084.10</td>\n",
       "      <td>0</td>\n",
       "    </tr>\n",
       "  </tbody>\n",
       "</table>\n",
       "</div>"
      ],
      "text/plain": [
       "   RowNumber  CustomerId   Surname  CreditScore Geography  Gender   Age  \\\n",
       "0          1    15634602  Hargrave          619    France  Female  42.0   \n",
       "1          2    15647311      Hill          608     Spain  Female  41.0   \n",
       "2          3    15619304      Onio          502    France  Female  42.0   \n",
       "3          4    15701354      Boni          699    France  Female  39.0   \n",
       "4          5    15737888  Mitchell          850     Spain  Female  43.0   \n",
       "\n",
       "   Tenure    Balance  NumOfProducts  HasCrCard  IsActiveMember  \\\n",
       "0       2       0.00              1        1.0             1.0   \n",
       "1       1   83807.86              1        0.0             1.0   \n",
       "2       8  159660.80              3        1.0             0.0   \n",
       "3       1       0.00              2        0.0             0.0   \n",
       "4       2  125510.82              1        NaN             1.0   \n",
       "\n",
       "   EstimatedSalary  Exited  \n",
       "0        101348.88       1  \n",
       "1        112542.58       0  \n",
       "2        113931.57       1  \n",
       "3         93826.63       0  \n",
       "4         79084.10       0  "
      ]
     },
     "execution_count": 5,
     "metadata": {},
     "output_type": "execute_result"
    }
   ],
   "source": [
    "# Using exsiting data asset to create a batch\n",
    "data_asset = context.get_datasource(\"bank_churn_classification_data7\").get_asset(\"original\")\n",
    "batch_request = data_asset.build_batch_request()\n",
    "\n",
    "# print(validator.head())\n",
    "\n",
    "# Create a Validator object\n",
    "validator = context.get_validator(\n",
    "    batch_request=batch_request,\n",
    "    expectation_suite_name=\"bank_churn_expectations\",\n",
    ")\n",
    "validator.head()"
   ]
  },
  {
   "cell_type": "code",
   "execution_count": 6,
   "metadata": {},
   "outputs": [
    {
     "data": {
      "application/vnd.jupyter.widget-view+json": {
       "model_id": "36ba83e12748492f9f156f78a9b2a303",
       "version_major": 2,
       "version_minor": 0
      },
      "text/plain": [
       "Calculating Metrics:   0%|          | 0/1 [00:00<?, ?it/s]"
      ]
     },
     "metadata": {},
     "output_type": "display_data"
    },
    {
     "data": {
      "application/vnd.jupyter.widget-view+json": {
       "model_id": "b53501ced39e4fdeacc0beaa3f0e699f",
       "version_major": 2,
       "version_minor": 0
      },
      "text/plain": [
       "Calculating Metrics:   0%|          | 0/8 [00:00<?, ?it/s]"
      ]
     },
     "metadata": {},
     "output_type": "display_data"
    },
    {
     "data": {
      "application/vnd.jupyter.widget-view+json": {
       "model_id": "1d8129b196bd454890850fd97ba6b96e",
       "version_major": 2,
       "version_minor": 0
      },
      "text/plain": [
       "Calculating Metrics:   0%|          | 0/6 [00:00<?, ?it/s]"
      ]
     },
     "metadata": {},
     "output_type": "display_data"
    },
    {
     "data": {
      "application/vnd.jupyter.widget-view+json": {
       "model_id": "4df421761fc240f6b63e0c2b54b04e10",
       "version_major": 2,
       "version_minor": 0
      },
      "text/plain": [
       "Calculating Metrics:   0%|          | 0/1 [00:00<?, ?it/s]"
      ]
     },
     "metadata": {},
     "output_type": "display_data"
    },
    {
     "data": {
      "application/vnd.jupyter.widget-view+json": {
       "model_id": "7aa8c93ebdb94694a8ab7c2131e150bb",
       "version_major": 2,
       "version_minor": 0
      },
      "text/plain": [
       "Calculating Metrics:   0%|          | 0/1 [00:00<?, ?it/s]"
      ]
     },
     "metadata": {},
     "output_type": "display_data"
    },
    {
     "data": {
      "application/vnd.jupyter.widget-view+json": {
       "model_id": "966ee2eded9147ef9b83b9a660811222",
       "version_major": 2,
       "version_minor": 0
      },
      "text/plain": [
       "Calculating Metrics:   0%|          | 0/6 [00:00<?, ?it/s]"
      ]
     },
     "metadata": {},
     "output_type": "display_data"
    },
    {
     "data": {
      "application/vnd.jupyter.widget-view+json": {
       "model_id": "ea40940de14e4bfca5be454ce95aebfd",
       "version_major": 2,
       "version_minor": 0
      },
      "text/plain": [
       "Calculating Metrics:   0%|          | 0/1 [00:00<?, ?it/s]"
      ]
     },
     "metadata": {},
     "output_type": "display_data"
    },
    {
     "data": {
      "application/vnd.jupyter.widget-view+json": {
       "model_id": "d8cc23ee2a9b44ee84a31717e19837ef",
       "version_major": 2,
       "version_minor": 0
      },
      "text/plain": [
       "Calculating Metrics:   0%|          | 0/8 [00:00<?, ?it/s]"
      ]
     },
     "metadata": {},
     "output_type": "display_data"
    },
    {
     "data": {
      "application/vnd.jupyter.widget-view+json": {
       "model_id": "242dfa25d9bb41819409d22c9f01f4fe",
       "version_major": 2,
       "version_minor": 0
      },
      "text/plain": [
       "Calculating Metrics:   0%|          | 0/8 [00:00<?, ?it/s]"
      ]
     },
     "metadata": {},
     "output_type": "display_data"
    },
    {
     "data": {
      "application/vnd.jupyter.widget-view+json": {
       "model_id": "e209ea3d85394645b0334f3b7bedd3bf",
       "version_major": 2,
       "version_minor": 0
      },
      "text/plain": [
       "Calculating Metrics:   0%|          | 0/6 [00:00<?, ?it/s]"
      ]
     },
     "metadata": {},
     "output_type": "display_data"
    },
    {
     "data": {
      "application/vnd.jupyter.widget-view+json": {
       "model_id": "be78265cfc004c218c5a2cf4c9f58567",
       "version_major": 2,
       "version_minor": 0
      },
      "text/plain": [
       "Calculating Metrics:   0%|          | 0/8 [00:00<?, ?it/s]"
      ]
     },
     "metadata": {},
     "output_type": "display_data"
    },
    {
     "data": {
      "application/vnd.jupyter.widget-view+json": {
       "model_id": "f2c8df6851434eb9b566aaafa8861204",
       "version_major": 2,
       "version_minor": 0
      },
      "text/plain": [
       "Calculating Metrics:   0%|          | 0/6 [00:00<?, ?it/s]"
      ]
     },
     "metadata": {},
     "output_type": "display_data"
    },
    {
     "data": {
      "application/vnd.jupyter.widget-view+json": {
       "model_id": "05f0041a402a439c886f0b691ed64dae",
       "version_major": 2,
       "version_minor": 0
      },
      "text/plain": [
       "Calculating Metrics:   0%|          | 0/6 [00:00<?, ?it/s]"
      ]
     },
     "metadata": {},
     "output_type": "display_data"
    },
    {
     "data": {
      "application/vnd.jupyter.widget-view+json": {
       "model_id": "21454ede1988483997eee595d1faafc4",
       "version_major": 2,
       "version_minor": 0
      },
      "text/plain": [
       "Calculating Metrics:   0%|          | 0/1 [00:00<?, ?it/s]"
      ]
     },
     "metadata": {},
     "output_type": "display_data"
    },
    {
     "data": {
      "application/vnd.jupyter.widget-view+json": {
       "model_id": "443fbe8e9916483a97b03df275807215",
       "version_major": 2,
       "version_minor": 0
      },
      "text/plain": [
       "Calculating Metrics:   0%|          | 0/8 [00:00<?, ?it/s]"
      ]
     },
     "metadata": {},
     "output_type": "display_data"
    },
    {
     "data": {
      "application/vnd.jupyter.widget-view+json": {
       "model_id": "5b183156a9be4d109d1988c5c27cc9b1",
       "version_major": 2,
       "version_minor": 0
      },
      "text/plain": [
       "Calculating Metrics:   0%|          | 0/1 [00:00<?, ?it/s]"
      ]
     },
     "metadata": {},
     "output_type": "display_data"
    },
    {
     "data": {
      "application/vnd.jupyter.widget-view+json": {
       "model_id": "4c154b2550614f43aae8e37573088029",
       "version_major": 2,
       "version_minor": 0
      },
      "text/plain": [
       "Calculating Metrics:   0%|          | 0/8 [00:00<?, ?it/s]"
      ]
     },
     "metadata": {},
     "output_type": "display_data"
    },
    {
     "data": {
      "application/vnd.jupyter.widget-view+json": {
       "model_id": "4bc63821d2264acc83e286eeca7dd58c",
       "version_major": 2,
       "version_minor": 0
      },
      "text/plain": [
       "Calculating Metrics:   0%|          | 0/6 [00:00<?, ?it/s]"
      ]
     },
     "metadata": {},
     "output_type": "display_data"
    },
    {
     "data": {
      "application/vnd.jupyter.widget-view+json": {
       "model_id": "2abd10f6eee2431fa6162331b34f2560",
       "version_major": 2,
       "version_minor": 0
      },
      "text/plain": [
       "Calculating Metrics:   0%|          | 0/1 [00:00<?, ?it/s]"
      ]
     },
     "metadata": {},
     "output_type": "display_data"
    },
    {
     "data": {
      "application/vnd.jupyter.widget-view+json": {
       "model_id": "d5f5115209df4d0290149a3dedfd3f0a",
       "version_major": 2,
       "version_minor": 0
      },
      "text/plain": [
       "Calculating Metrics:   0%|          | 0/8 [00:00<?, ?it/s]"
      ]
     },
     "metadata": {},
     "output_type": "display_data"
    },
    {
     "data": {
      "application/vnd.jupyter.widget-view+json": {
       "model_id": "2c4993730feb4e5fab4e51babdedfafb",
       "version_major": 2,
       "version_minor": 0
      },
      "text/plain": [
       "Calculating Metrics:   0%|          | 0/1 [00:00<?, ?it/s]"
      ]
     },
     "metadata": {},
     "output_type": "display_data"
    },
    {
     "data": {
      "application/vnd.jupyter.widget-view+json": {
       "model_id": "1150f1225dca499d8afd5f06ce263ed3",
       "version_major": 2,
       "version_minor": 0
      },
      "text/plain": [
       "Calculating Metrics:   0%|          | 0/8 [00:00<?, ?it/s]"
      ]
     },
     "metadata": {},
     "output_type": "display_data"
    },
    {
     "data": {
      "application/vnd.jupyter.widget-view+json": {
       "model_id": "1238162633b04293afe76ce96ca913e9",
       "version_major": 2,
       "version_minor": 0
      },
      "text/plain": [
       "Calculating Metrics:   0%|          | 0/8 [00:00<?, ?it/s]"
      ]
     },
     "metadata": {},
     "output_type": "display_data"
    },
    {
     "data": {
      "application/vnd.jupyter.widget-view+json": {
       "model_id": "0a45ed98c40b47d698a34a838c445a7b",
       "version_major": 2,
       "version_minor": 0
      },
      "text/plain": [
       "Calculating Metrics:   0%|          | 0/6 [00:00<?, ?it/s]"
      ]
     },
     "metadata": {},
     "output_type": "display_data"
    },
    {
     "data": {
      "application/vnd.jupyter.widget-view+json": {
       "model_id": "0055ca3bb4de4cfbb77893394d6b3f74",
       "version_major": 2,
       "version_minor": 0
      },
      "text/plain": [
       "Calculating Metrics:   0%|          | 0/1 [00:00<?, ?it/s]"
      ]
     },
     "metadata": {},
     "output_type": "display_data"
    },
    {
     "data": {
      "application/vnd.jupyter.widget-view+json": {
       "model_id": "00c14d2c40404cc6aeee6c25a010c227",
       "version_major": 2,
       "version_minor": 0
      },
      "text/plain": [
       "Calculating Metrics:   0%|          | 0/8 [00:00<?, ?it/s]"
      ]
     },
     "metadata": {},
     "output_type": "display_data"
    },
    {
     "data": {
      "application/vnd.jupyter.widget-view+json": {
       "model_id": "393ff7e809c34fc8a759f7014266e3c0",
       "version_major": 2,
       "version_minor": 0
      },
      "text/plain": [
       "Calculating Metrics:   0%|          | 0/6 [00:00<?, ?it/s]"
      ]
     },
     "metadata": {},
     "output_type": "display_data"
    },
    {
     "data": {
      "application/vnd.jupyter.widget-view+json": {
       "model_id": "6b06a264348e47b7bb02910568f89eef",
       "version_major": 2,
       "version_minor": 0
      },
      "text/plain": [
       "Calculating Metrics:   0%|          | 0/1 [00:00<?, ?it/s]"
      ]
     },
     "metadata": {},
     "output_type": "display_data"
    },
    {
     "data": {
      "application/vnd.jupyter.widget-view+json": {
       "model_id": "ce0cf345c32f4b22a889a4ba3a59b5b2",
       "version_major": 2,
       "version_minor": 0
      },
      "text/plain": [
       "Calculating Metrics:   0%|          | 0/6 [00:00<?, ?it/s]"
      ]
     },
     "metadata": {},
     "output_type": "display_data"
    },
    {
     "data": {
      "application/vnd.jupyter.widget-view+json": {
       "model_id": "eba1d252d9ce4e0ba8cfc056009691ec",
       "version_major": 2,
       "version_minor": 0
      },
      "text/plain": [
       "Calculating Metrics:   0%|          | 0/1 [00:00<?, ?it/s]"
      ]
     },
     "metadata": {},
     "output_type": "display_data"
    },
    {
     "data": {
      "application/vnd.jupyter.widget-view+json": {
       "model_id": "8b4bd5e1921446eaa0fb2358c11a7f06",
       "version_major": 2,
       "version_minor": 0
      },
      "text/plain": [
       "Calculating Metrics:   0%|          | 0/8 [00:00<?, ?it/s]"
      ]
     },
     "metadata": {},
     "output_type": "display_data"
    },
    {
     "data": {
      "application/vnd.jupyter.widget-view+json": {
       "model_id": "9f8887b4dde9484f941ad070650b1399",
       "version_major": 2,
       "version_minor": 0
      },
      "text/plain": [
       "Calculating Metrics:   0%|          | 0/7 [00:00<?, ?it/s]"
      ]
     },
     "metadata": {},
     "output_type": "display_data"
    },
    {
     "data": {
      "text/plain": [
       "'/Users/laceymorgan/gx/expectations/bank_churn_expectations.json'"
      ]
     },
     "execution_count": 6,
     "metadata": {},
     "output_type": "execute_result"
    }
   ],
   "source": [
    "# General expectations for all columns\n",
    "validator.expect_table_row_count_to_be_between(min_value=1, max_value=None)  \n",
    "\n",
    "# Expectations for 'CustomerId'\n",
    "validator.expect_column_values_to_be_unique('CustomerId')\n",
    "validator.expect_column_values_to_not_be_null('CustomerId')\n",
    "validator.expect_column_values_to_be_of_type('CustomerId', 'int')\n",
    "\n",
    "# Expectations for 'Surname'\n",
    "validator.expect_column_values_to_be_of_type('Surname', 'object')\n",
    "\n",
    "# Expectations for 'CreditScore'\n",
    "validator.expect_column_values_to_not_be_null('CreditScore')\n",
    "validator.expect_column_values_to_be_of_type('CreditScore', 'int')\n",
    "validator.expect_column_values_to_be_between('CreditScore', min_value=0, max_value=1000)\n",
    "\n",
    "# Expectations for 'Geography'\n",
    "validator.expect_column_values_to_be_in_set('Geography', ['France', 'Spain', 'Germany'])\n",
    "validator.expect_column_values_to_not_be_null('Geography')\n",
    "\n",
    "# Expectations for 'Gender'\n",
    "validator.expect_column_values_to_be_in_set('Gender', ['Male', 'Female'])\n",
    "validator.expect_column_values_to_not_be_null('Gender')\n",
    "\n",
    "# Expectations for 'Age'\n",
    "validator.expect_column_values_to_not_be_null('Age')\n",
    "validator.expect_column_values_to_be_of_type('Age', 'float')\n",
    "validator.expect_column_values_to_be_between('Age', min_value=18, max_value=120)  # Assuming 18 is the min age for customers\n",
    "\n",
    "# Expectations for 'Tenure'\n",
    "validator.expect_column_values_to_be_of_type('Tenure', 'int')\n",
    "validator.expect_column_values_to_be_between('Tenure', min_value=0, max_value=50)\n",
    "\n",
    "# Expectations for 'Balance'\n",
    "validator.expect_column_values_to_not_be_null('Balance')\n",
    "validator.expect_column_values_to_be_of_type('Balance', 'float')\n",
    "validator.expect_column_values_to_be_between('Balance', min_value=0, max_value=None)  # No max_value if there's no known upper limit\n",
    "\n",
    "# Expectations for 'NumOfProducts'\n",
    "validator.expect_column_values_to_be_of_type('NumOfProducts', 'int')\n",
    "validator.expect_column_values_to_be_between('NumOfProducts', min_value=1, max_value=4)\n",
    "\n",
    "# Expectations for 'HasCrCard'\n",
    "validator.expect_column_values_to_be_in_set('HasCrCard', [0.0, 1.0])\n",
    "validator.expect_column_values_to_not_be_null('HasCrCard')\n",
    "validator.expect_column_values_to_be_of_type('HasCrCard', 'float')\n",
    "\n",
    "# Expectations for 'IsActiveMember'\n",
    "validator.expect_column_values_to_be_in_set('IsActiveMember', [0.0, 1.0])\n",
    "validator.expect_column_values_to_not_be_null('IsActiveMember')\n",
    "validator.expect_column_values_to_be_of_type('IsActiveMember', 'float')\n",
    "\n",
    "# Expectations for 'EstimatedSalary'\n",
    "validator.expect_column_values_to_not_be_null(\"EstimatedSalary\")\n",
    "validator.expect_column_values_to_be_of_type(\"EstimatedSalary\", \"float\")\n",
    "validator.expect_column_values_to_be_between(\"EstimatedSalary\", min_value=0, max_value=1e6) # Assuming the salary range is 0 to 1 million\n",
    "\n",
    "#Composite expectations - Assuming age should be greater than tenure\n",
    "validator.expect_column_pair_values_A_to_be_greater_than_B(\"Age\", \"Tenure\")\n",
    "\n",
    "# After defining all your expectations, you can save the Expectation Suite\n",
    "expectation_suite = validator.get_expectation_suite(discard_failed_expectations=False)\n",
    "expectation_suite_name = \"bank_churn_expectations\" \n",
    "context.save_expectation_suite(expectation_suite, expectation_suite_name)"
   ]
  },
  {
   "cell_type": "code",
   "execution_count": 7,
   "metadata": {},
   "outputs": [
    {
     "data": {
      "application/vnd.jupyter.widget-view+json": {
       "model_id": "8347ed10e7e6430f90f2143688ae797c",
       "version_major": 2,
       "version_minor": 0
      },
      "text/plain": [
       "Calculating Metrics:   0%|          | 0/113 [00:00<?, ?it/s]"
      ]
     },
     "metadata": {},
     "output_type": "display_data"
    }
   ],
   "source": [
    "# Using exsiting data asset to create a batch\n",
    "data_asset = context.get_datasource(\"bank_churn_classification_data7\").get_asset(\"original\")\n",
    "batch_request = data_asset.build_batch_request()\n",
    "\n",
    "# Define a Checkpoint \n",
    "checkpoint = context.add_or_update_checkpoint(\n",
    "    name=\"checkpoint_original_data_1\",\n",
    "    validations=[\n",
    "        {\n",
    "            \"batch_request\": batch_request,\n",
    "            \"expectation_suite_name\": \"bank_churn_expectations\",\n",
    "        },\n",
    "    ],\n",
    ")\n",
    "\n",
    "# Run the Checkpoint\n",
    "checkpoint_result = checkpoint.run()"
   ]
  },
  {
   "cell_type": "code",
   "execution_count": 8,
   "metadata": {},
   "outputs": [],
   "source": [
    "# Build the data docs\n",
    "context.build_data_docs()\n",
    "\n",
    "# View the data docs\n",
    "context.open_data_docs()"
   ]
  },
  {
   "cell_type": "code",
   "execution_count": 9,
   "metadata": {},
   "outputs": [
    {
     "data": {
      "application/vnd.jupyter.widget-view+json": {
       "model_id": "f3de9a3e2b484a748398ab3e96a7ce71",
       "version_major": 2,
       "version_minor": 0
      },
      "text/plain": [
       "Calculating Metrics:   0%|          | 0/113 [00:00<?, ?it/s]"
      ]
     },
     "metadata": {},
     "output_type": "display_data"
    }
   ],
   "source": [
    "# Using exsiting data asset to create a batch\n",
    "data_asset = context.get_datasource(\"bank_churn_classification_data7\").get_asset(\"train\")\n",
    "batch_request = data_asset.build_batch_request()\n",
    "\n",
    "# Define a Checkpoint \n",
    "checkpoint = context.add_or_update_checkpoint(\n",
    "    name=\"checkpoint_train_1\",\n",
    "    validations=[\n",
    "        {\n",
    "            \"batch_request\": batch_request,\n",
    "            \"expectation_suite_name\": \"bank_churn_expectations\",\n",
    "        },\n",
    "    ],\n",
    ")\n",
    "\n",
    "# Run the Checkpoint\n",
    "checkpoint_result = checkpoint.run()\n",
    "\n",
    "# Build the data docs\n",
    "context.build_data_docs()\n",
    "\n",
    "# View the data docs\n",
    "context.open_data_docs()"
   ]
  },
  {
   "cell_type": "code",
   "execution_count": 10,
   "metadata": {},
   "outputs": [
    {
     "data": {
      "application/vnd.jupyter.widget-view+json": {
       "model_id": "a73a1188bd1b4947b49de7788d348645",
       "version_major": 2,
       "version_minor": 0
      },
      "text/plain": [
       "Calculating Metrics:   0%|          | 0/113 [00:00<?, ?it/s]"
      ]
     },
     "metadata": {},
     "output_type": "display_data"
    }
   ],
   "source": [
    "# Using exsiting data asset to create a batch\n",
    "data_asset = context.get_datasource(\"bank_churn_classification_data7\").get_asset(\"test\")\n",
    "batch_request = data_asset.build_batch_request()\n",
    "\n",
    "# Define a Checkpoint \n",
    "checkpoint = context.add_or_update_checkpoint(\n",
    "    name=\"checkpoint_test_1\",\n",
    "    validations=[\n",
    "        {\n",
    "            \"batch_request\": batch_request,\n",
    "            \"expectation_suite_name\": \"bank_churn_expectations\",\n",
    "        },\n",
    "    ],\n",
    ")\n",
    "\n",
    "# Run the Checkpoint\n",
    "checkpoint_result = checkpoint.run()\n",
    "\n",
    "# Build the data docs\n",
    "context.build_data_docs()\n",
    "\n",
    "# View the data docs\n",
    "context.open_data_docs()"
   ]
  }
 ],
 "metadata": {
  "kernelspec": {
   "display_name": "dev",
   "language": "python",
   "name": "python3"
  },
  "language_info": {
   "codemirror_mode": {
    "name": "ipython",
    "version": 3
   },
   "file_extension": ".py",
   "mimetype": "text/x-python",
   "name": "python",
   "nbconvert_exporter": "python",
   "pygments_lexer": "ipython3",
   "version": "3.10.11"
  }
 },
 "nbformat": 4,
 "nbformat_minor": 2
}
